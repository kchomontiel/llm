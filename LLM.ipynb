{
 "cells": [
  {
   "cell_type": "code",
   "execution_count": 2,
   "metadata": {},
   "outputs": [],
   "source": [
    "from langchain.document_loaders import PyPDFLoader"
   ]
  },
  {
   "cell_type": "code",
   "execution_count": 3,
   "metadata": {},
   "outputs": [
    {
     "name": "stderr",
     "output_type": "stream",
     "text": [
      "Matplotlib is building the font cache; this may take a moment.\n"
     ]
    }
   ],
   "source": [
    "import os\n",
    "import pandas as pd\n",
    "import matplotlib.pyplot as plt\n",
    "from transformers import GPT2TokenizerFast\n",
    "from langchain.document_loaders import PyPDFLoader\n",
    "from langchain.text_splitter import RecursiveCharacterTextSplitter\n",
    "from langchain.embeddings import OpenAIEmbeddings\n",
    "from langchain.vectorstores import FAISS\n",
    "from langchain.chains.question_answering import load_qa_chain\n",
    "from langchain.llms import OpenAI\n",
    "from langchain.chains import ConversationalRetrievalChain\n",
    "import transformers\n",
    "import sentence_transformers\n",
    "import numpy as np\n",
    "import textract\n",
    "import torch"
   ]
  },
  {
   "cell_type": "code",
   "execution_count": 10,
   "metadata": {},
   "outputs": [],
   "source": [
    "#Convert PDF to text\n",
    "doc = textract.process(\"./Estudio21.pdf\")"
   ]
  },
  {
   "cell_type": "code",
   "execution_count": 11,
   "metadata": {},
   "outputs": [],
   "source": [
    "# Step 2: Save to .txt and reopen (helps prevent issues)\n",
    "with open(\"./Estudio21.txt\", 'w') as f:\n",
    "    f.write(doc.decode('utf-8'))"
   ]
  },
  {
   "cell_type": "code",
   "execution_count": 12,
   "metadata": {},
   "outputs": [],
   "source": [
    "with open('./Estudio21.txt', 'r') as f:\n",
    "    text = f.read()\n",
    "text_to_encode = text.split(\"\\n\")  # Split by newlines for sentence-like units"
   ]
  },
  {
   "cell_type": "code",
   "execution_count": null,
   "metadata": {},
   "outputs": [],
   "source": [
    "# Load the pre-trained model\n",
    "model = sentence_transformers.SentenceTransformer(\"all-mpnet-base-v2\")\n",
    "\n",
    "# Assuming text_to_encode contains document content as a list of sentences\n",
    "user_question = \"Que es HTML5?\"\n",
    "question_embedding = model.encode([user_question])\n",
    "embeddings = model.encode(text_to_encode)\n",
    "\n",
    "similarities = model.similarity(question_embedding, embeddings)\n",
    "most_similar_idx = np.argmax(similarities)\n",
    "\n",
    "# Consider only sentences after the most similar one\n",
    "window_size_forward = 4  # Adjust this value as needed\n",
    "start_idx = most_similar_idx\n",
    "end_idx = min(len(text_to_encode), most_similar_idx + window_size_forward + 1)\n",
    "\n",
    "answer_context = \" \".join(text_to_encode[start_idx:end_idx])\n",
    "answer_context_truncated=\"\"\n",
    "for i in range(0, len(answer_context.split(\".\"))-1):\n",
    "  answer_context_truncated=answer_context_truncated+\" \"+answer_context.split(\".\")[i]\n",
    "print(\"Answer:\", answer_context_truncated)  # Truncates at the last point"
   ]
  },
  {
   "cell_type": "code",
   "execution_count": 13,
   "metadata": {},
   "outputs": [
    {
     "data": {
      "application/vnd.jupyter.widget-view+json": {
       "model_id": "62c4bb6e1fb148a88143d88c104061fc",
       "version_major": 2,
       "version_minor": 0
      },
      "text/plain": [
       "tokenizer_config.json:   0%|          | 0.00/364 [00:00<?, ?B/s]"
      ]
     },
     "metadata": {},
     "output_type": "display_data"
    },
    {
     "data": {
      "application/vnd.jupyter.widget-view+json": {
       "model_id": "da682b75d01741b0b576775a13f3ca66",
       "version_major": 2,
       "version_minor": 0
      },
      "text/plain": [
       "vocab.txt:   0%|          | 0.00/242k [00:00<?, ?B/s]"
      ]
     },
     "metadata": {},
     "output_type": "display_data"
    },
    {
     "data": {
      "application/vnd.jupyter.widget-view+json": {
       "model_id": "f8b8a6b6eb6747c1b14699a7b8028140",
       "version_major": 2,
       "version_minor": 0
      },
      "text/plain": [
       "special_tokens_map.json:   0%|          | 0.00/134 [00:00<?, ?B/s]"
      ]
     },
     "metadata": {},
     "output_type": "display_data"
    },
    {
     "data": {
      "application/vnd.jupyter.widget-view+json": {
       "model_id": "a1393f36d8bf409ea07056d8659a21d6",
       "version_major": 2,
       "version_minor": 0
      },
      "text/plain": [
       "tokenizer.json:   0%|          | 0.00/480k [00:00<?, ?B/s]"
      ]
     },
     "metadata": {},
     "output_type": "display_data"
    },
    {
     "name": "stderr",
     "output_type": "stream",
     "text": [
      "/Users/carlosmontiel/anaconda3/lib/python3.11/site-packages/huggingface_hub/file_download.py:1132: FutureWarning: `resume_download` is deprecated and will be removed in version 1.0.0. Downloads always resume when possible. If you want to force a new download, use `force_download=True`.\n",
      "  warnings.warn(\n"
     ]
    },
    {
     "data": {
      "application/vnd.jupyter.widget-view+json": {
       "model_id": "c632144c6b0b4bf094cb5be101ea659a",
       "version_major": 2,
       "version_minor": 0
      },
      "text/plain": [
       "config.json:   0%|          | 0.00/648 [00:00<?, ?B/s]"
      ]
     },
     "metadata": {},
     "output_type": "display_data"
    },
    {
     "data": {
      "application/vnd.jupyter.widget-view+json": {
       "model_id": "ba4e78d4365846e1976e32fa34f2b6b7",
       "version_major": 2,
       "version_minor": 0
      },
      "text/plain": [
       "pytorch_model.bin:   0%|          | 0.00/440M [00:00<?, ?B/s]"
      ]
     },
     "metadata": {},
     "output_type": "display_data"
    },
    {
     "name": "stderr",
     "output_type": "stream",
     "text": [
      "If you want to use `BertLMHeadModel` as a standalone, add `is_decoder=True.`\n"
     ]
    },
    {
     "name": "stdout",
     "output_type": "stream",
     "text": [
      "Original Text: 1. Lenguajes de Programación:\n",
      "\n",
      "- Java:\n",
      "\n",
      "- Fundamentos de Java (sintaxis, variables, operadores, estructuras de control)**: Java\n",
      "\n",
      "es un lenguaje de programación de alto nivel orientado a objetos, originalmente\n",
      "desarrollado por Sun Microsystems en 1995 y actualmente propiedad de Oracle. Es\n",
      "utilizado para desarrollar una amplia gama de aplicaciones de software, desde\n",
      "aplicaciones móviles hasta aplicaciones de escritorio, web y\n",
      "juegos[[3](https://www.tutorialspoint.com/java/index.htm)]. La sintaxis de Java es similar a\n",
      "la de C, lo que significa que si uno aprende la sintaxis de la programación en Java,\n",
      "automáticamente sería capaz de leer y escribir programas en lenguajes similares como C,\n",
      "C++ y C#[[1](https://en.wikibooks.org/wiki/Java_Programming/Language_Fundamentals)].\n",
      "Entre los fundamentos de Java se incluyen las variables, que almacenan datos para su\n",
      "procesamiento; los operadores, que realizan diferentes tipos de operaciones matemáticas\n",
      "y lógicas; y las estructuras de control, que guían el flujo de ejecución de un\n",
      "programa[[1](https://en.wikibooks.org/wiki/Java_Programming/Language_Fundamentals)].\n",
      "Para evitar conflictos de nombres, Java utiliza paquetes, y para ocultar la mayor cantidad\n",
      "de información posible, utiliza los modificadores de acceso de manera\n",
      "adecuada[[1](https://en.wikibooks.org/wiki/Java_Programming/Language_Fundamentals)].\n",
      "\n",
      "- Programación orientada a objetos:\n",
      "Java es un lenguaje de programación orientado a objetos (OOP). Incorpora casi todas las\n",
      "características de OOP. La creación de objetos a través de plantillas de objetos, es decir,\n",
      "clases, la abstracción y encapsulación de datos, la compartición de datos y código a\n",
      "través de la herencia, el concepto de sobrecarga a través del polimorfismo, y la ocultación\n",
      "de datos/procesos, etc., son algunas de las características básicas de OOP en\n",
      "Java[[2](https://cse.iitkgp.ac.in/~dsamanta/java/ch1.htm)].\n",
      "\n",
      "- Colecciones y API de Java:\n",
      "Java ofrece una interfaz rica y eficiente para manejar y manipular grupos de objetos. La\n",
      "API de colecciones de Java, que incluye clases como Set, List y Map, permite a los\n",
      "desarrolladores manejar estos grupos de objetos de manera eficiente. Esta API\n",
      "proporciona todas las operaciones necesarias que uno puede realizar en una colección de\n",
      "datos, como la búsqueda, la ordenación, la inserción, la manipulación y la eliminación.\n",
      "\n",
      "- Excepciones y manejo de errores:\n",
      "Las excepciones son eventos que ocurren durante la ejecución de programas que\n",
      "interrumpen el flujo normal de las instrucciones. Java proporciona un sólido sistema de\n",
      "manejo de excepciones que permite a los programadores manejar los errores de manera\n",
      "eficiente y mantener el flujo normal de ejecución. En un lenguaje orientado a objetos, los\n",
      "programas se ejecutan con objetos; sin embargo, para facilitar su uso y por razones\n",
      "históricas, Java tiene tipos primitivos. Los tipos de datos primitivos sólo almacenan valores\n",
      "\n",
      "\fy no tienen métodos. Los tipos primitivos pueden considerarse como datos brutos y suelen\n",
      "ser atributos incorporados dentro de los objetos o utilizados para la creación de estos\n",
      "\n",
      "1. Introducción a .Net Framework:\n",
      "\n",
      ".NET Framework es una plataforma de desarrollo creada por Microsoft que funciona\n",
      "principalmente en Windows. Permite a los desarrolladores construir y operar aplicaciones\n",
      "en varios lenguajes de programación como C#, VB.NET, y F#. .NET Framework\n",
      "proporciona una biblioteca de clases de base que incluye una amplia variedad de\n",
      "funciones y servicios útiles, como la entrada/salida de archivos, conectividad a bases de\n",
      "datos, redes y gráficos.\n",
      "\n",
      "El .NET Framework también incluye una máquina virtual llamada Common Language\n",
      "Runtime (CLR) que gestiona la ejecución del código en la plataforma .NET. El CLR\n",
      "proporciona servicios esenciales como la administración de memoria, el manejo de\n",
      "excepciones y la seguridad. Cuando se compila un programa .NET, se convierte en un\n",
      "lenguaje intermedio llamado Common Intermediate Language (CIL), que luego se ejecuta\n",
      "en la CLR.\n",
      "\n",
      "2. Fundamentos de C# (sintaxis, tipos de datos, estructuras de control):\n",
      "\n",
      "C# es un lenguaje de programación desarrollado por Microsoft que se utiliza comúnmente\n",
      "con el .NET Framework. C# es un lenguaje orientado a objetos, lo que significa que se\n",
      "centra en la creación de \"objetos\" que contienen tanto datos como comportamientos.\n",
      "\n",
      "La sintaxis de C# es similar a la de otros lenguajes de programación C-like, incluyendo el\n",
      "uso de llaves para delimitar bloques de código y punto y coma para terminar las\n",
      "declaraciones. Los tipos de datos en C# incluyen tipos primitivos como int (enteros), float\n",
      "(números de coma flotante), char (caracteres) y bool (valores booleanos), así como tipos\n",
      "más complejos como las clases y las estructuras.\n",
      "\n",
      "Las estructuras de control en C# incluyen declaraciones if, for loops, while loops, y switch\n",
      "statements, que son similares a las estructuras de control en otros lenguajes de\n",
      "programación. También proporciona try/catch blocks para el manejo de excepciones.\n",
      "\n",
      "3. Programación orientada a objetos en C#:\n",
      "\n",
      "La programación orientada a objetos (OOP) es un paradigma de programación que utiliza\n",
      "\"objetos\" - instancias de clases - para diseñar aplicaciones y programas de ordenador. C#\n",
      "es un lenguaje que implementa fuertemente la OOP.\n",
      "\n",
      "En C#, una clase es una definición de un tipo de objeto y puede incluir campos (variables\n",
      "asociadas a la clase), métodos (funciones asociadas a la clase) y propiedades (un método\n",
      "de acceso a los campos de una clase). La OOP en C# también permite conceptos\n",
      "\n",
      "\favanzados como herencia (una clase que \"hereda\" comportamiento de una clase\n",
      "superior), polimorfismo (la capacidad de una clase de presentar diferentes\n",
      "comportamientos dependiendo del contexto) y encapsulamiento (la ocultación de los\n",
      "detalles de implementación).\n",
      "\n",
      "4. Desarrollo de aplicaciones web con ASP.Net:\n",
      "\n",
      "ASP.NET es un framework para el desarrollo de aplicaciones web desarrollado por\n",
      "Microsoft y construido sobre el .NET Framework. ASP.NET permite a los desarrolladores\n",
      "construir sitios web dinámicos y servicios web utilizando C# o VB.NET.\n",
      "\n",
      "ASP.NET incluye características como controles de servidor (que permiten a los\n",
      "desarrolladores manipular elementos HTML usando código del lado del servidor), gestión\n",
      "de estado (que permite a las aplicaciones recordar información entre solicitudes) y\n",
      "conectividad a bases de datos (a través de ADO.NET). ASP.NET\n",
      "\n",
      "también soporta el desarrollo de aplicaciones de una sola página (SPA) a través de\n",
      "ASP.NET Core.\n",
      "\n",
      "1. Selectores y propiedades básicas de CSS:\n",
      "\n",
      "CSS, que significa Hojas de Estilo en Cascada, es un lenguaje utilizado para describir\n",
      "cómo se muestra un documento HTML en la web. La parte central de CSS son los\n",
      "selectores y propiedades.\n",
      "\n",
      "Los selectores de CSS son patrones utilizados para seleccionar los elementos que\n",
      "quieres estilizar. Hay varios tipos de selectores en CSS:\n",
      "\n",
      "- El selector universal (*) selecciona todos los elementos de una página.\n",
      "- El selector de tipo selecciona elementos basándose en su tipo de etiqueta HTML (por\n",
      "ejemplo, p, div, h1).\n",
      "- El selector de ID selecciona un elemento basándose en su atributo de identificación (por\n",
      "ejemplo, #navbar).\n",
      "- El selector de clase selecciona elementos basándose en su atributo de clase (por\n",
      "ejemplo, .highlight).\n",
      "- Los selectores de atributo seleccionan elementos basándose en un atributo específico o\n",
      "valor de atributo (por ejemplo, [type=\"text\"]).\n",
      "- Los selectores pseudo-clase y pseudo-elemento seleccionan elementos basándose en\n",
      "su estado o posición en el documento (por ejemplo, :hover,\n",
      "::before)[[1](https://www.sitepoint.com/css-selectors/)].\n",
      "\n",
      "Las propiedades CSS son las instrucciones que se dan a los elementos seleccionados.\n",
      "Por ejemplo, puedes cambiar el color de un párrafo a verde usando la propiedad 'color':\n",
      "\n",
      "\f```css\n",
      "p {\n",
      "\n",
      "}\n",
      "```\n",
      "\n",
      "color: green;\n",
      "\n",
      "2. Diseño y maquetación de páginas web:\n",
      "\n",
      "El diseño y la maquetación de las páginas web se refiere a cómo se organizan y se\n",
      "presentan los elementos en una página web. HTML define la estructura de la página,\n",
      "mientras que CSS controla la presentación de esa estructura. La maquetación de la\n",
      "página puede incluir el posicionamiento de los elementos, la tipografía, los colores, los\n",
      "márgenes y los espacios, y mucho más.\n",
      "\n",
      "CSS proporciona una serie de propiedades para controlar el diseño de la página. Por\n",
      "ejemplo, las propiedades 'display' y 'position' controlan cómo y dónde se colocan los\n",
      "elementos. Las propiedades 'margin' y 'padding' controlan el espacio alrededor y dentro\n",
      "de los elementos. Las propiedades 'width' y 'height' controlan el tamaño de los elementos.\n",
      "Las propiedades 'font' y 'color' controlan la tipografía y los\n",
      "colores[[2](https://www.khanacademy.org/computing/computer-programming/html-css)].\n",
      "\n",
      "3. Diseño responsivo y media queries:\n",
      "\n",
      "El diseño responsivo se refiere a la práctica de hacer que las páginas web se vean y\n",
      "funcionen bien en una variedad de dispositivos y tamaños de pantalla. CSS juega un\n",
      "papel crucial en el diseño responsivo al permitir a los desarrolladores ajustar el estilo y el\n",
      "diseño de la página en función de las características del dispositivo del usuario.\n",
      "\n",
      "Las media queries son una característica de CSS que permite a los desarrolladores\n",
      "aplicar estilos diferentes basándose en las características del dispositivo, como la anchura\n",
      "de la ventana del navegador. Por ejemplo, puedes tener un conjunto de estilos que se\n",
      "apliquen sólo cuando la ventana del navegador sea de menos de 600 píxeles de ancho:\n",
      "\n",
      "```css\n",
      "@media (max-width: 600px) {\n",
      "\n",
      "body {\n",
      "\n",
      "background-color: lightblue;\n",
      "\n",
      "}\n",
      "\n",
      "}\n",
      "```\n",
      "\n",
      "En este ejemplo, el fondo de la página se cambiará a azul claro cuando la ventana del\n",
      "navegador sea de menos de 600px de ancho\n",
      "\n",
      "\f1. HTML5:\n",
      "\n",
      "- Estructura básica de un documento HTML5:\n",
      "\n",
      "HTML5 es la quinta revisión del lenguaje de marcado Hypertext Markup Language\n",
      "(HTML), el código estándar que se utiliza para crear sitios web. Cada documento HTML5\n",
      "comienza con la Declaración de Tipo de Documento (doctype), que informa al navegador\n",
      "el tipo de documento que es. La declaración de doctype siempre es el primer elemento en\n",
      "cualquier archivo HTML. En HTML5, la declaración de doctype es simplemente\n",
      "`<!DOCTYPE html>`\n",
      "[[3](https://www.w3docs.com/snippets/html/html5-page-structure.html)].\n",
      "\n",
      "A continuación, tenemos el elemento `<html>`, que se utiliza para indicar al navegador\n",
      "que se trata de un documento HTML. Podemos utilizar el atributo `lang` para especificar\n",
      "que el documento está en español (es): `<html lang=\"es\">`.\n",
      "\n",
      "Luego, el elemento `<head>` contiene metadatos (título del documento, conjunto de\n",
      "caracteres, estilos, enlaces, scripts), información específica sobre la página web que no\n",
      "se muestra al usuario.\n",
      "\n",
      "El elemento `<body>` es donde se colocan el contenido principal y los elementos visibles\n",
      "de la página web. Dentro de `<body>`, podemos tener varios elementos como `<header>`,\n",
      "`<nav>`, `<main>`, `<section>`, `<article>`, `<aside>`, `<footer>` que ayudan a estructurar\n",
      "y dar significado a la página web\n",
      "[[1](https://developer.mozilla.org/en-US/docs/Learn/HTML/Introduction_to_HTML/Docume\n",
      "nt_and_website_structure)].\n",
      "\n",
      "- Etiquetas y atributos fundamentales:\n",
      "\n",
      "Las etiquetas HTML, también conocidas como elementos, son la base de cualquier página\n",
      "web. Estas son algunas de las etiquetas más fundamentales:\n",
      "\n",
      "`<h1>` a `<h6>`: Son utilizadas para los encabezados, siendo `<h1>` el de mayor\n",
      "importancia y `<h6>` el de menor importancia.\n",
      "\n",
      "`<p>`: Se usa para párrafos.\n",
      "\n",
      "`<a>`: Crea un enlace a otra página web. El atributo `href` se utiliza para especificar la\n",
      "URL de la página a la que se enlaza.\n",
      "\n",
      "`<img>`: Inserta una imagen en la página web. El atributo `src` se utiliza para especificar\n",
      "la URL de la imagen.\n",
      "\n",
      "\f`<div>`: Es un contenedor que se utiliza para agrupar otros elementos y aplicar estilos\n",
      "CSS.\n",
      "\n",
      "Los atributos proporcionan información adicional sobre los elementos y pueden ser\n",
      "utilizados en cualquier elemento HTML. Algunos de los atributos más utilizados incluyen\n",
      "`class`, que se utiliza para asignar una clase a un elemento; `id`, que asigna un\n",
      "identificador único a un elemento; y `style`, que se utiliza para añadir estilos CSS\n",
      "directamente a un elemento.\n",
      "\n",
      "- Elementos semánticos y multimedia:\n",
      "\n",
      "Los elementos semánticos en HTML5 son aquellos que claramente describen su\n",
      "significado tanto para el navegador como para el desarrollador. Algunos ejemplos de\n",
      "elementos semánticos son `<header>`, `<nav>`, `<main>`, `<section>`, `<article>`,\n",
      "`<aside>`, `<footer>`, que se utilizan para definir diferentes partes de una página web\n",
      "[[2](https://www.w3schools.com/html/html5_semantic_elements.asp)].\n",
      "\n",
      "HTML5 también introduce elementos multimedia como `<video>` y `<audio>` para\n",
      "incrustar contenido de video y audio respectivamente en las páginas web. Con estos\n",
      "elementos, ya no es necesario recurrir a\n",
      "\n",
      "plugins de terceros para este tipo de contenido.\n",
      "\n",
      "\f\n"
     ]
    }
   ],
   "source": [
    "from transformers import BertTokenizer, BertLMHeadModel\n",
    "\n",
    "# Choose your desired pre-trained model\n",
    "model_name = \"dccuchile/bert-base-spanish-wwm-cased\"\n",
    "\n",
    "# Load tokenizer (handles converting text to numerical representations)\n",
    "tokenizer = BertTokenizer.from_pretrained(model_name)\n",
    "\n",
    "# Load the pre-trained model (architecture depends on your choice)\n",
    "model = BertLMHeadModel.from_pretrained(model_name)  # Adjust for T5 or other models\n",
    "\n",
    "def summarize(text, max_length=512):\n",
    "\n",
    "  # Tokenize the input text\n",
    "  input_ids = tokenizer(text, return_tensors=\"pt\")[\"input_ids\"]\n",
    "\n",
    "  # Generate summary using the model\n",
    "  output = model.generate(input_ids, max_length=max_length)\n",
    "\n",
    "  # Decode the generated tokens back to human-readable text\n",
    "  summary = tokenizer.decode(output[0], skip_special_tokens=True)\n",
    "  return summary\n",
    "\n",
    "  summary = summarize(text, max_length=max_length)\n",
    "\n",
    "def summarize_long_text(text, max_length=512):\n",
    "    chunks = [text[i:i+max_length] for i in range(0, len(text), max_length)]\n",
    "    summaries = [summarize(chunk) for chunk in chunks]\n",
    "    return \" \".join(summaries)\n",
    "\n",
    "print(f\"Original Text: {text}\")\n",
    "print(f\"Summary: {summarize_long_text(text)}\")"
   ]
  }
 ],
 "metadata": {
  "kernelspec": {
   "display_name": "nlp",
   "language": "python",
   "name": "python3"
  },
  "language_info": {
   "codemirror_mode": {
    "name": "ipython",
    "version": 3
   },
   "file_extension": ".py",
   "mimetype": "text/x-python",
   "name": "python",
   "nbconvert_exporter": "python",
   "pygments_lexer": "ipython3",
   "version": "3.11.5"
  }
 },
 "nbformat": 4,
 "nbformat_minor": 2
}
